{
 "cells": [
  {
   "cell_type": "code",
   "execution_count": 14,
   "metadata": {},
   "outputs": [],
   "source": [
    "import requests\n",
    "def zcz():\n",
    "    url=['http://www.17k.com/','http://www.17k.com/book/2614810.html']\n",
    "    file = 'C:/Users/侯文涵/Desktop/sjd.html'\n",
    "    with open('C:/Users/侯文涵/Desktop/sjd.html','a',encoding='utf-8')as f:\n",
    "        for i in range(2):\n",
    "            header = {'User-Agent': 'Mozilla/5.0 (Windows NT 10.0; Win64; x64) AppleWebKit/537.36 (KHTML, like Gecko) Chrome/67.0.3396.62 Safari/537.36'}\n",
    "            response=requests.get('http://www.17k.com/','http://www.17k.com/book/2614810.html')\n",
    "            f.write(response.text)"
   ]
  }
 ],
 "metadata": {
  "kernelspec": {
   "display_name": "Python 3",
   "language": "python",
   "name": "python3"
  },
  "language_info": {
   "codemirror_mode": {
    "name": "ipython",
    "version": 3
   },
   "file_extension": ".py",
   "mimetype": "text/x-python",
   "name": "python",
   "nbconvert_exporter": "python",
   "pygments_lexer": "ipython3",
   "version": "3.6.4"
  }
 },
 "nbformat": 4,
 "nbformat_minor": 2
}
