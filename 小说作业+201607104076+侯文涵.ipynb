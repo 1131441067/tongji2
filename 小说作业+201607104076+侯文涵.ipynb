{
 "cells": [
  {
   "cell_type": "code",
   "execution_count": 2,
   "metadata": {},
   "outputs": [],
   "source": [
    "import requests\n",
    "from lxml import etree\n",
    "s = 0\n",
    "q = requests.get('http://www.17k.com/list/2822387.html')\n",
    "tree = etree.HTML(q.text)\n",
    "book = tree.xpath('//div[@class=\"Main List\"]/dl[@class=\"Volume\"][1]/dd/a')\n",
    "for i in book:\n",
    "    w = i.xpath('./@href')[0]\n",
    "    hrl = requests.get('http://www.17k.com'+w)\n",
    "    s = s+1\n",
    "    tree1 = etree.HTML(hrl.text)\n",
    "    e = tree1.xpath('//body/div[@class=\"area\"]/div[@class=\"read\"]/div[2]/div[1]/div[@class=\"p\"]/text()')\n",
    "    d = str(e)\n",
    "    with open('C:/Users/侯文涵/Desktop/小说'+str(s)+'.txt','w',encoding='utf-8') as f:\n",
    "        f.write(d)"
   ]
  },
  {
   "cell_type": "code",
   "execution_count": null,
   "metadata": {},
   "outputs": [],
   "source": []
  }
 ],
 "metadata": {
  "kernelspec": {
   "display_name": "Python 3",
   "language": "python",
   "name": "python3"
  },
  "language_info": {
   "codemirror_mode": {
    "name": "ipython",
    "version": 3
   },
   "file_extension": ".py",
   "mimetype": "text/x-python",
   "name": "python",
   "nbconvert_exporter": "python",
   "pygments_lexer": "ipython3",
   "version": "3.6.4"
  }
 },
 "nbformat": 4,
 "nbformat_minor": 2
}
